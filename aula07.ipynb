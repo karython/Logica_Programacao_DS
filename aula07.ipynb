{
 "cells": [
  {
   "cell_type": "markdown",
   "metadata": {},
   "source": [
    "## Laço de Repetição\n",
    "\n",
    "- While\n",
    "- For"
   ]
  },
  {
   "cell_type": "code",
   "execution_count": 24,
   "metadata": {},
   "outputs": [
    {
     "name": "stdout",
     "output_type": "stream",
     "text": [
      "1° gomes\n",
      "2° oliveira\n",
      "3° karython\n"
     ]
    }
   ],
   "source": [
    "nome = ['gomes', 'oliveira', 'karython']\n",
    "\n",
    "for i, j in enumerate(nome):\n",
    "    print(f'{i + 1}° {j}')\n",
    "    \n",
    "    "
   ]
  },
  {
   "cell_type": "code",
   "execution_count": 25,
   "metadata": {},
   "outputs": [
    {
     "name": "stdout",
     "output_type": "stream",
     "text": [
      "g\n",
      "o\n",
      "m\n",
      "e\n",
      "s\n"
     ]
    }
   ],
   "source": [
    "nome = 'gomes'\n",
    "\n",
    "for i in nome:\n",
    "    print(i)"
   ]
  },
  {
   "cell_type": "code",
   "execution_count": 26,
   "metadata": {},
   "outputs": [
    {
     "name": "stdout",
     "output_type": "stream",
     "text": [
      "g\n",
      "o\n",
      "m\n",
      "e\n",
      "s\n"
     ]
    }
   ],
   "source": [
    "for i in 'gomes':\n",
    "    print(i)"
   ]
  },
  {
   "cell_type": "code",
   "execution_count": null,
   "metadata": {},
   "outputs": [],
   "source": [
    "nome = ['gomes', 'oliveira', 'karython']\n",
    "\n",
    "for i in nome:\n",
    "    print(i)"
   ]
  },
  {
   "cell_type": "code",
   "execution_count": 4,
   "metadata": {},
   "outputs": [
    {
     "name": "stdout",
     "output_type": "stream",
     "text": [
      "0\n",
      "2\n",
      "4\n",
      "6\n",
      "8\n"
     ]
    }
   ],
   "source": [
    "for i in range(0, 10, +2):\n",
    "    print(i)"
   ]
  },
  {
   "cell_type": "code",
   "execution_count": 5,
   "metadata": {},
   "outputs": [
    {
     "name": "stdout",
     "output_type": "stream",
     "text": [
      "10\n",
      "11\n",
      "12\n",
      "13\n",
      "14\n",
      "15\n",
      "16\n",
      "17\n",
      "18\n",
      "19\n",
      "20\n"
     ]
    }
   ],
   "source": [
    "inicio = int(input('Digite o numero onde começa a contagem: '))\n",
    "fim = int(input('Digite o numero onde termina a contagem: '))\n",
    "\n",
    "for i in range(inicio, fim +1):\n",
    "    print(i)"
   ]
  },
  {
   "cell_type": "code",
   "execution_count": 6,
   "metadata": {},
   "outputs": [
    {
     "name": "stdout",
     "output_type": "stream",
     "text": [
      "1\n",
      "3\n",
      "5\n",
      "7\n",
      "9\n",
      "11\n",
      "13\n",
      "15\n",
      "17\n",
      "19\n"
     ]
    }
   ],
   "source": [
    "for i in range(0, 21):\n",
    "    if i % 2 != 0:\n",
    "        print(i)"
   ]
  },
  {
   "cell_type": "code",
   "execution_count": 50,
   "metadata": {},
   "outputs": [
    {
     "name": "stdout",
     "output_type": "stream",
     "text": [
      "5 X 1 = 5\n",
      "5 X 2 = 10\n",
      "5 X 3 = 15\n",
      "5 X 4 = 20\n",
      "5 X 5 = 25\n",
      "5 X 6 = 30\n",
      "5 X 7 = 35\n",
      "5 X 8 = 40\n",
      "5 X 9 = 45\n",
      "5 X 10 = 50\n"
     ]
    }
   ],
   "source": [
    "x = int(input(\"Digite o numero da tabuda: \"))\n",
    "\n",
    "for num in range(1, 11):\n",
    "    print(f'{x} X {num} = {x * num}')"
   ]
  },
  {
   "cell_type": "code",
   "execution_count": 54,
   "metadata": {},
   "outputs": [
    {
     "name": "stdout",
     "output_type": "stream",
     "text": [
      "limao\n"
     ]
    }
   ],
   "source": [
    "lista = ['uva', 'pera', 'melancia', 'abacate', 'limao', 'manga']\n",
    "\n",
    "for i in lista:\n",
    "    if i == 'limao':\n",
    "        print(i)\n"
   ]
  },
  {
   "cell_type": "code",
   "execution_count": null,
   "metadata": {},
   "outputs": [],
   "source": [
    "from time import sleep\n",
    "import os\n",
    "\n",
    "x = int(input('Digite o numero de segundos da contagem regressiva: '))\n",
    "\n",
    "for i in range(x, -1, -1):\n",
    "    print(i)\n",
    "    sleep(1)\n",
    "    os.system('cls')\n",
    "\n",
    "print('Fim da contagem')"
   ]
  },
  {
   "cell_type": "code",
   "execution_count": 69,
   "metadata": {},
   "outputs": [
    {
     "name": "stdout",
     "output_type": "stream",
     "text": [
      "A soma dos numeros impares é: 2500\n",
      "A quantidade total de numeros impares é: 50\n"
     ]
    }
   ],
   "source": [
    "contador = 0\n",
    "soma = 0\n",
    "for i in range(1, 101):\n",
    "    if i % 2 != 0:\n",
    "        contador +=1\n",
    "        soma += i\n",
    "\n",
    "print(f'A soma dos numeros impares é: {soma}')\n",
    "print(f'A quantidade total de numeros impares é: {contador}')"
   ]
  }
 ],
 "metadata": {
  "kernelspec": {
   "display_name": "venv",
   "language": "python",
   "name": "python3"
  },
  "language_info": {
   "codemirror_mode": {
    "name": "ipython",
    "version": 3
   },
   "file_extension": ".py",
   "mimetype": "text/x-python",
   "name": "python",
   "nbconvert_exporter": "python",
   "pygments_lexer": "ipython3",
   "version": "3.12.6"
  }
 },
 "nbformat": 4,
 "nbformat_minor": 2
}
