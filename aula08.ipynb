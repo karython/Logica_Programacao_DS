{
 "cells": [
  {
   "cell_type": "markdown",
   "metadata": {},
   "source": [
    "## Manipulação de string\n",
    "\n",
    "- split\n",
    "- replace\n",
    "- strip\n",
    "- loow\n",
    "- UPPER\n",
    "- len()\n",
    "- str()\n",
    "- .join\n",
    "- .format()"
   ]
  },
  {
   "cell_type": "code",
   "execution_count": 8,
   "metadata": {},
   "outputs": [
    {
     "name": "stdout",
     "output_type": "stream",
     "text": [
      "         *\n",
      "        **\n",
      "       ***\n",
      "      ****\n",
      "     *****\n",
      "    ******\n",
      "   *******\n",
      "  ********\n",
      " *********\n"
     ]
    }
   ],
   "source": [
    "altura = int(input('Digite a altura da arvore: '))\n",
    "\n",
    "for i in range(1, altura):\n",
    "    for _ in range(altura - i):\n",
    "        print(' ', end='')\n",
    "    \n",
    "    for _ in range(i):\n",
    "        print('*', end='')\n",
    "\n",
    "    print()\n",
    "   "
   ]
  },
  {
   "cell_type": "code",
   "execution_count": 16,
   "metadata": {},
   "outputs": [
    {
     "name": "stdout",
     "output_type": "stream",
     "text": [
      "Encontrei o dias\n"
     ]
    }
   ],
   "source": [
    "lista = ['lucas', 'nathan', 'juan', 'quaresma', 'dias']\n",
    "while True:\n",
    "    if 'dias' in lista:\n",
    "        print('Encontrei o dias')\n",
    "        break\n",
    "    "
   ]
  },
  {
   "cell_type": "code",
   "execution_count": 18,
   "metadata": {},
   "outputs": [
    {
     "name": "stdout",
     "output_type": "stream",
     "text": [
      "['gomes', 'oliveira', 'lucas']\n"
     ]
    }
   ],
   "source": [
    "lista_nomes = []\n",
    "\n",
    "while True:\n",
    "    nome = input('Digite um nome ou enter no vazio para sair: ')\n",
    "    if nome != '':\n",
    "        lista_nomes.append(nome)\n",
    "    else:\n",
    "        break\n",
    "\n",
    "print(lista_nomes)"
   ]
  },
  {
   "cell_type": "code",
   "execution_count": 25,
   "metadata": {},
   "outputs": [
    {
     "name": "stdout",
     "output_type": "stream",
     "text": [
      "    #\n",
      "   ###\n",
      "  #####\n",
      " #######\n",
      "#########\n"
     ]
    }
   ],
   "source": [
    "while True:\n",
    "    altura = int(input('Digite a altura da piramide: '))\n",
    "\n",
    "    if altura > 1:\n",
    "        break\n",
    "\n",
    "for i in range(altura):\n",
    "    print(' ' * (altura - (i + 1)) + '#' * (2* i + 1))"
   ]
  },
  {
   "cell_type": "code",
   "execution_count": null,
   "metadata": {},
   "outputs": [],
   "source": [
    "while True:\n",
    "    lista_usuario = []\n",
    "    \n",
    "    print('1. Cadastrar usuario.')\n",
    "    print('2. Listar Usuario.')\n",
    "    print('3. Excluir usuario.')\n",
    "    print('4. Sair')\n",
    "\n",
    "    opcao = input('Digite a opcao desejada: ')\n",
    "\n"
   ]
  }
 ],
 "metadata": {
  "kernelspec": {
   "display_name": "venv",
   "language": "python",
   "name": "python3"
  },
  "language_info": {
   "codemirror_mode": {
    "name": "ipython",
    "version": 3
   },
   "file_extension": ".py",
   "mimetype": "text/x-python",
   "name": "python",
   "nbconvert_exporter": "python",
   "pygments_lexer": "ipython3",
   "version": "3.12.6"
  }
 },
 "nbformat": 4,
 "nbformat_minor": 2
}
