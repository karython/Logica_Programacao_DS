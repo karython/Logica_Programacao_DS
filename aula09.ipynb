{
 "cells": [
  {
   "cell_type": "markdown",
   "metadata": {},
   "source": [
    "## Manipulação de string\n",
    "\n",
    "- split\n",
    "- strip\n",
    "- join\n",
    "\n",
    "### Crie um programa que pede que o usuário digite um nome ou uma frase, verifique se esse conteúdo digitado é um palindromo ou não, exibindo em tela esse resultado."
   ]
  },
  {
   "cell_type": "code",
   "execution_count": 9,
   "metadata": {},
   "outputs": [
    {
     "name": "stdout",
     "output_type": "stream",
     "text": [
      "NATAN NATAN\n",
      "É um palindromo!\n"
     ]
    }
   ],
   "source": [
    "frase = str(input('Digite uma palavra ou frase: ')).strip().upper()\n",
    "\n",
    "palavras = frase.split()\n",
    "caractere = ''.join(palavras)\n",
    "\n",
    "fraseinvertida = ''\n",
    "\n",
    "for i in range(len(caractere) -1, -1, -1):\n",
    "    fraseinvertida += caractere[i]\n",
    "\n",
    "print(caractere, fraseinvertida)\n",
    "\n",
    "if fraseinvertida == caractere:\n",
    "    print('É um palindromo!')\n",
    "else:\n",
    "    print('Não é um palindromo!')\n",
    "\n"
   ]
  },
  {
   "cell_type": "code",
   "execution_count": 14,
   "metadata": {},
   "outputs": [
    {
     "name": "stdout",
     "output_type": "stream",
     "text": [
      "cpf: 111.222.333-44\n"
     ]
    }
   ],
   "source": [
    "cpf = input('Digite seu CPF: ')\n",
    "print(f'cpf: {cpf[:3]}.{cpf[3:6]}.{cpf[6:9]}-{cpf[9:]}')"
   ]
  },
  {
   "cell_type": "code",
   "execution_count": 17,
   "metadata": {},
   "outputs": [
    {
     "name": "stdout",
     "output_type": "stream",
     "text": [
      "{'Pão': 'R$ 1,99', 'Açucar': 'R$ 4,99', 'Café': 'R$ 3,99', 'Macarrao': 'R$ 4,99', 'Carne': 'R$ 16,99'}\n"
     ]
    }
   ],
   "source": [
    "# Dicionario\n",
    "'''\n",
    "    inicialmente é atribuido a uma variavel, os dados são passados \n",
    "    como parâmetros\n",
    "    \n",
    "    o metodo construtor dict() converterá internamente a varicavel \n",
    "    em chave e seu atributo como valor\n",
    "'''\n",
    "\n",
    "dicionario = dict(\n",
    "    Pão = 'R$ 1,99',\n",
    "    Açucar = 'R$ 4,99',\n",
    "    Café = 'R$ 3,99',\n",
    "    Macarrao = 'R$ 4,99',\n",
    "    Carne = 'R$ 16,99'\n",
    ")\n",
    "\n",
    "print(dicionario)"
   ]
  },
  {
   "cell_type": "code",
   "execution_count": 38,
   "metadata": {},
   "outputs": [
    {
     "name": "stdout",
     "output_type": "stream",
     "text": [
      "dict_values([{'nome': 'Chocolate', 'preco': 5.0, 'estoque': 10}, {'nome': 'Pão', 'preco': 16.99, 'estoque': 100}, {'nome': 'Biscoito', 'preco': 2.99, 'estoque': 20}])\n"
     ]
    }
   ],
   "source": [
    "# Criando o dicionario de produtos\n",
    "produtos = {\n",
    "    101 : {'nome' : 'Chocolate', 'preco' : 5.00, 'estoque' : 10},\n",
    "    102 : {'nome' : 'Pão', 'preco' : 16.99, 'estoque' : 100},\n",
    "    103 : {'nome' : 'Biscoito', 'preco' : 2.99, 'estoque' : 20}\n",
    "}\n",
    "\n",
    "\n",
    "for codigo, info in produtos.items():\n",
    "    print(f'Código: {codigo}')\n",
    "    print(f'Nome: {info['nome']}')\n",
    "    print(f'Preço: {info['preco']}')\n",
    "    print(f'Estoque: {info['estoque']}')\n",
    "    print()\n",
    "\n",
    "print(produtos.values())\n",
    "\n"
   ]
  },
  {
   "cell_type": "markdown",
   "metadata": {},
   "source": [
    "## Desafio\n",
    "- Recrie o sistema de casdastro e mude de lista para dicionario"
   ]
  },
  {
   "cell_type": "code",
   "execution_count": 39,
   "metadata": {},
   "outputs": [
    {
     "name": "stdout",
     "output_type": "stream",
     "text": [
      "\n",
      "--- Sistema de Cadastro de Usuários ---\n",
      "1. Cadastrar Usuário\n",
      "2. Listar Usuários\n",
      "3. Remover Usuário\n",
      "4. Sair\n",
      "Usuário gomes cadastrado com sucesso!\n",
      "\n",
      "--- Sistema de Cadastro de Usuários ---\n",
      "1. Cadastrar Usuário\n",
      "2. Listar Usuários\n",
      "3. Remover Usuário\n",
      "4. Sair\n",
      "Usuário gomes cadastrado com sucesso!\n",
      "\n",
      "--- Sistema de Cadastro de Usuários ---\n",
      "1. Cadastrar Usuário\n",
      "2. Listar Usuários\n",
      "3. Remover Usuário\n",
      "4. Sair\n",
      "\n",
      "--- Lista de Usuários Cadastrados ---\n",
      "Nome: gomes, Idade: 10, E-mail: karython.emai\n",
      "Nome: gomes, Idade: 56, E-mail: gomes.email\n",
      "\n",
      "--- Sistema de Cadastro de Usuários ---\n",
      "1. Cadastrar Usuário\n",
      "2. Listar Usuários\n",
      "3. Remover Usuário\n",
      "4. Sair\n",
      "Saindo do sistema...\n"
     ]
    }
   ],
   "source": [
    "# Dicionário para armazenar os usuários\n",
    "usuarios = {}\n",
    "\n",
    "# Loop para o menu de opções\n",
    "while True:\n",
    "    print(\"\\n--- Sistema de Cadastro de Usuários ---\")\n",
    "    print(\"1. Cadastrar Usuário\")\n",
    "    print(\"2. Listar Usuários\")\n",
    "    print(\"3. Remover Usuário\")\n",
    "    print(\"4. Sair\")\n",
    "    \n",
    "    opcao = input(\"Escolha uma opção: \")\n",
    "    \n",
    "    # Cadastrar usuário\n",
    "    if opcao == '1':\n",
    "        nome = input(\"Digite o nome do usuário: \")\n",
    "        idade = input(\"Digite a idade do usuário: \")\n",
    "        email = input(\"Digite o e-mail do usuário: \")\n",
    "        usuarios[email] = {\"nome\": nome, \"idade\": idade}\n",
    "        print(f\"Usuário {nome} cadastrado com sucesso!\")\n",
    "    \n",
    "    # Listar usuários\n",
    "    elif opcao == '2':\n",
    "        if usuarios:\n",
    "            print(\"\\n--- Lista de Usuários Cadastrados ---\")\n",
    "            for email, dados in usuarios.items():\n",
    "                print(f\"Nome: {dados['nome']}, Idade: {dados['idade']}, E-mail: {email}\")\n",
    "        else:\n",
    "            print(\"Nenhum usuário cadastrado.\")\n",
    "    \n",
    "    # Remover usuário\n",
    "    elif opcao == '3':\n",
    "        email_remover = input(\"Digite o e-mail do usuário que deseja remover: \")\n",
    "        if email_remover in usuarios:\n",
    "            del usuarios[email_remover]\n",
    "            print(\"Usuário removido com sucesso!\")\n",
    "        else:\n",
    "            print(\"Usuário não encontrado.\")\n",
    "    \n",
    "    # Sair do sistema\n",
    "    elif opcao == '4':\n",
    "        print(\"Saindo do sistema...\")\n",
    "        break\n",
    "    \n",
    "    # Opção inválida\n",
    "    else:\n",
    "        print(\"Opção inválida. Tente novamente.\")\n"
   ]
  },
  {
   "cell_type": "markdown",
   "metadata": {},
   "source": [
    "### Cadastro de Alunos com Média\n",
    "1. Crie um programa que permita cadastrar 5 alunos. Para cada aluno, armazene o nome e três notas. O programa deve calcular a média das notas de cada aluno e armazenar as informações (nome e média) em um dicionário. Ao final, exiba o nome e a média de cada aluno.\n",
    "\n",
    "### Exemplo de Execução:\n",
    "```plaintext\n",
    "Digite o nome do aluno: João\n",
    "Digite a primeira nota: 7.5\n",
    "Digite a segunda nota: 8.0\n",
    "Digite a terceira nota: 9.0\n",
    "\n",
    "Nome: João, Média: 8.17\n",
    "...\n",
    "```\n",
    "\n",
    "---\n"
   ]
  },
  {
   "cell_type": "markdown",
   "metadata": {},
   "source": []
  }
 ],
 "metadata": {
  "kernelspec": {
   "display_name": "venv",
   "language": "python",
   "name": "python3"
  },
  "language_info": {
   "codemirror_mode": {
    "name": "ipython",
    "version": 3
   },
   "file_extension": ".py",
   "mimetype": "text/x-python",
   "name": "python",
   "nbconvert_exporter": "python",
   "pygments_lexer": "ipython3",
   "version": "3.12.6"
  }
 },
 "nbformat": 4,
 "nbformat_minor": 2
}
